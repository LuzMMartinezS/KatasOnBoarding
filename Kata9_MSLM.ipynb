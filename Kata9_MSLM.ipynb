{
 "cells": [
  {
   "cell_type": "markdown",
   "metadata": {},
   "source": [
    "## Ejercicio 1: Uso de funciones en Python"
   ]
  },
  {
   "cell_type": "code",
   "execution_count": 3,
   "metadata": {},
   "outputs": [
    {
     "name": "stdout",
     "output_type": "stream",
     "text": [
      "Reporte de tanques:\n",
      "    Promedio: 20.0%\n",
      "    Tanque 1: 10%\n",
      "    Tanque 2: 20%\n",
      "    Tanque 3: 30% \n",
      "    \n"
     ]
    }
   ],
   "source": [
    "def promedioTanques(tanque1, tanque2, tanque3):\n",
    "    promedio= (tanque1 + tanque2 + tanque3)/3\n",
    "    return f\"\"\"Reporte de tanques:\n",
    "    Promedio: {promedio}%\n",
    "    Tanque 1: {tanque1}%\n",
    "    Tanque 2: {tanque2}%\n",
    "    Tanque 3: {tanque3}% \n",
    "    \"\"\"\n",
    "print(promedioTanques(10,20,30))"
   ]
  },
  {
   "cell_type": "code",
   "execution_count": 9,
   "metadata": {},
   "outputs": [
    {
     "name": "stdout",
     "output_type": "stream",
     "text": [
      "Reporte de tanques:\n",
      "    Promedio: 20.0%\n",
      "    Tanque 1: 10%\n",
      "    Tanque 2: 20%\n",
      "    Tanque 3: 30% \n",
      "    \n"
     ]
    }
   ],
   "source": [
    "# Función promedio \n",
    "def promedio(valores):\n",
    "    total = sum(valores)\n",
    "    numValores = len(valores)\n",
    "    return total / numValores\n",
    "\n",
    "# Test the averaging function with a list of integers:\n",
    "# print(promedio([80, 85, 81])) \n",
    "\n",
    "# Función actualizada\n",
    "def promedioTanques(tanque1, tanque2, tanque3):\n",
    "    promedio2= promedio([tanque1, tanque2, tanque3])\n",
    "    return f\"\"\"Reporte de tanques:\n",
    "    Promedio: {promedio2}%\n",
    "    Tanque 1: {tanque1}%\n",
    "    Tanque 2: {tanque2}%\n",
    "    Tanque 3: {tanque3}% \n",
    "    \"\"\"\n",
    "print(promedioTanques(10,20,30))"
   ]
  },
  {
   "cell_type": "markdown",
   "metadata": {},
   "source": [
    "## Ejercicio 2: Trabajo con argumentos de la palabra clave"
   ]
  },
  {
   "cell_type": "code",
   "execution_count": 11,
   "metadata": {},
   "outputs": [
    {
     "name": "stdout",
     "output_type": "stream",
     "text": [
      "\n",
      "    Mision a Moon\n",
      "    Total de vuelo: 65 minutos\n",
      "    Combustible a la izquierda: 500000 litros\n",
      "    \n"
     ]
    }
   ],
   "source": [
    "# Función con un informe preciso de la misión. Considera hora de prelanzamiento, tiempo de vuelo, destino, tanque externo y tanque interno\n",
    "\n",
    "def informe(prelanzamiento, tiempoVuelo, destino, tanqueExterno, tanqueInterno):\n",
    "    return f\"\"\"\n",
    "    Mision a {destino}\n",
    "    Total de vuelo: {prelanzamiento + tiempoVuelo} minutos\n",
    "    Combustible a la izquierda: {tanqueExterno + tanqueInterno} litros\n",
    "    \"\"\"\n",
    "\n",
    "print(informe(14, 51, \"Moon\", 200000, 300000))"
   ]
  },
  {
   "cell_type": "code",
   "execution_count": 13,
   "metadata": {},
   "outputs": [
    {
     "name": "stdout",
     "output_type": "stream",
     "text": [
      "\n",
      "    Mision a Moon\n",
      "    Total tiempo de viaje: 76 minutos\n",
      "    Total combustible: 500000\n",
      "    \n"
     ]
    }
   ],
   "source": [
    "# Nueva función de reporte\n",
    "\n",
    "def reporte(destino, *minutos, **combustible):\n",
    "    return f\"\"\"\n",
    "    Mision a {destino}\n",
    "    Total tiempo de viaje: {sum(minutos)} minutos\n",
    "    Total combustible: {sum(combustible.values())}\n",
    "    \"\"\"\n",
    "\n",
    "print(reporte(\"Moon\", 10, 15, 51, main=300000, external=200000))"
   ]
  },
  {
   "cell_type": "code",
   "execution_count": 21,
   "metadata": {},
   "outputs": [
    {
     "name": "stdout",
     "output_type": "stream",
     "text": [
      "\n",
      "    Misión a Moon\n",
      "    Tiempo total de viaje: 74 minutos\n",
      "    Combustible restante: 500000\n",
      "    tanque principal  --> 300000 litros restantes  \n",
      "    tanque externo  --> 200000 litros restantes  \n",
      "    \n"
     ]
    }
   ],
   "source": [
    "\n",
    "\n",
    "def reporteNuevo(destino, *minutos, **combustible):\n",
    "    ReportePrincipal = f\"\"\"\n",
    "    Misión a {destino}\n",
    "    Tiempo total de viaje: {sum(minutos)} minutos\n",
    "    Combustible restante: {sum(combustible.values())}\n",
    "    \"\"\"\n",
    "    for tanque, litros in combustible.items():\n",
    "        ReportePrincipal += f\"tanque {tanque}  --> {litros} litros restantes  \\n    \"\n",
    "    return ReportePrincipal\n",
    "\n",
    "print(reporteNuevo(\"Moon\", 8, 11, 55, principal=300000, externo=200000))"
   ]
  }
 ],
 "metadata": {
  "interpreter": {
   "hash": "260789e10f3f859915544e4ed0e8761864cd00db6bd874264fc0a767694174eb"
  },
  "kernelspec": {
   "display_name": "Python 3.10.2 64-bit (windows store)",
   "language": "python",
   "name": "python3"
  },
  "language_info": {
   "codemirror_mode": {
    "name": "ipython",
    "version": 3
   },
   "file_extension": ".py",
   "mimetype": "text/x-python",
   "name": "python",
   "nbconvert_exporter": "python",
   "pygments_lexer": "ipython3",
   "version": "3.10.2"
  },
  "orig_nbformat": 4
 },
 "nbformat": 4,
 "nbformat_minor": 2
}

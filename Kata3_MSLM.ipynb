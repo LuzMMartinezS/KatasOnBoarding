{
 "cells": [
  {
   "cell_type": "markdown",
   "metadata": {},
   "source": [
    "## Ejercicio 1-2: Escribir declaraciones if, else y elif"
   ]
  },
  {
   "cell_type": "code",
   "execution_count": 8,
   "metadata": {},
   "outputs": [
    {
     "name": "stdout",
     "output_type": "stream",
     "text": [
      "Advertencia, asteroide aproximandose a 49 km/s\n"
     ]
    }
   ],
   "source": [
    "#Para este ejercicio, escribirás una lógica condicional que imprima una advertencia si un asteroide se acerca a la Tierra demasiado rápido. La velocidad del asteroide varía dependiendo de lo cerca que esté del sol, y cualquier velocidad superior a 25 kilómetros por segundo (km/s) merece una advertencia.\n",
    "\n",
    "#Un asteroide se acerca, y viaja a una velocidad de 49 km/s.\n",
    "\n",
    "\n",
    "velAsteroide = 49\n",
    "\n",
    "if velAsteroide > 25:\n",
    "    print('Advertencia, asteroide aproximandose a ' +str(velAsteroide) +' km/s')\n",
    "\n",
    "else:\n",
    "    print('Tierra fuera de peligro')"
   ]
  },
  {
   "cell_type": "code",
   "execution_count": 16,
   "metadata": {},
   "outputs": [
    {
     "name": "stdout",
     "output_type": "stream",
     "text": [
      "No buscar asteroide en el cielo\n"
     ]
    }
   ],
   "source": [
    "#Si un asteroide entra en la atmósfera de la Tierra a una velocidad mayor o igual a 20 km/s, a veces produce un rayo de luz que se puede ver desde la Tierra. Escribe la lógica condicional que usa declaraciones `if`, `else`, y `elif`\n",
    "#para alertar a las personas de todo el mundo que deben buscar un asteroide en el cielo. ¡Hay uno que se dirige a la tierra ahora a una velocidad de 19 km/s!\n",
    "\n",
    "velAsteoide2 = 19\n",
    "\n",
    "if velAsteoide2 > 20:\n",
    "    print('Un asteroide se dirige a la tierra a ' +str(velAsteoide2) +' km/s, busque asteroide en el cielo')\n",
    "elif velAsteroide == 20:\n",
    "    print('Un asteroide se dirige a la tierra a ' +str(velAsteoide2) +' km/s, busque asteroide en el cielo')\n",
    "else:\n",
    "    print('No buscar asteroide en el cielo')"
   ]
  },
  {
   "cell_type": "markdown",
   "metadata": {},
   "source": [
    "# Ejercicio 3: Uso de operadores `and` y `or`"
   ]
  },
  {
   "cell_type": "code",
   "execution_count": 24,
   "metadata": {},
   "outputs": [
    {
     "name": "stdout",
     "output_type": "stream",
     "text": [
      "Asteroide visible en cielo\n"
     ]
    }
   ],
   "source": [
    "\"\"\"En este ejercicio, aprenderás información más matizada sobre cuándo los asteroides representan un peligro para la Tierra, y utilizarás esa información para mejorar nuestro sistema de advertencia. Aquí está la nueva información que necesitas saber:\n",
    "\n",
    "*Los asteroides de menos de 25 metros en su dimensión más grande probablemente se quemarán a medida que entren en la atmósfera de la Tierra.\n",
    "\n",
    "Si una pieza de un asteroide que es más grande que 25 metros pero más pequeña que 1000 metros golpeara la Tierra, causaría mucho daño.\n",
    "También discutimos en el ejercicio anterior que:\n",
    "\n",
    "La velocidad del asteroide varía en función de lo cerca que esté del sol, y cualquier velocidad superior a 25 kilómetros por segundo (km/s) merece una advertencia.\n",
    "Si un asteroide entra en la atmósfera de la Tierra a una velocidad mayor o igual a 20 km/s, a veces produce un rayo de luz que se puede ver desde la Tierra.\n",
    "Usando toda esta información, escribe un programa que emita la advertencia o información correcta a la gente de la Tierra, según la velocidad y el tamaño de un asteroide. Utiliza instrucciones if, else, y elif, así como los operadores and y or.\"\"\"\n",
    "\n",
    "velocidad= 20\n",
    "tamaño = 25\n",
    "\n",
    "if tamaño<25 and velocidad<25:\n",
    "    print(\"Altas probabilidades de desintegración en atmósfera\")\n",
    "elif 25<tamaño<1000 or velocidad>25:\n",
    "    print(\"Advertencia: Asteroide peligroso acercándose a la Tierra\")\n",
    "elif velocidad>= 20:\n",
    "    print(\"Asteroide visible en cielo\")\n",
    "else:\n",
    "    print(\"No hay peligro\")\n"
   ]
  }
 ],
 "metadata": {
  "interpreter": {
   "hash": "260789e10f3f859915544e4ed0e8761864cd00db6bd874264fc0a767694174eb"
  },
  "kernelspec": {
   "display_name": "Python 3.10.2 64-bit (windows store)",
   "language": "python",
   "name": "python3"
  },
  "language_info": {
   "codemirror_mode": {
    "name": "ipython",
    "version": 3
   },
   "file_extension": ".py",
   "mimetype": "text/x-python",
   "name": "python",
   "nbconvert_exporter": "python",
   "pygments_lexer": "ipython3",
   "version": "3.10.2"
  },
  "orig_nbformat": 4
 },
 "nbformat": 4,
 "nbformat_minor": 2
}

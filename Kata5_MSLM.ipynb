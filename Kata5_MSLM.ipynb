{
 "cells": [
  {
   "cell_type": "markdown",
   "metadata": {},
   "source": [
    "## Ejercicio 1: Utilizar operadores aritméticos"
   ]
  },
  {
   "cell_type": "code",
   "execution_count": 6,
   "metadata": {},
   "outputs": [
    {
     "name": "stdout",
     "output_type": "stream",
     "text": [
      "La distancia entre los planetas es de : \n",
      "628949330 km \n",
      "390577533.93 millas\n"
     ]
    }
   ],
   "source": [
    "Tierra= 149597870\n",
    "Jupiter = 778547200\n",
    "\n",
    "Distancia= abs(Tierra-Jupiter)\n",
    "DistanciaMillas= Distancia*0.621\n",
    "\n",
    "Resultados= 'La distancia entre los planetas es de : \\n' +str(Distancia) + ' km \\n' +str(DistanciaMillas) + ' millas'\n",
    "\n",
    "print(Resultados)\n"
   ]
  },
  {
   "cell_type": "markdown",
   "metadata": {},
   "source": [
    "## Ejercicio 2: Convierte cadenas en números y usa valores absolutos"
   ]
  },
  {
   "cell_type": "code",
   "execution_count": 2,
   "metadata": {},
   "outputs": [
    {
     "name": "stdout",
     "output_type": "stream",
     "text": [
      "La distancia entre los planetas es de : \n",
      "24 km \n",
      "14.904 millas\n"
     ]
    }
   ],
   "source": [
    "Distancia1= input('Introduzca la distancia del primer planeta en km')\n",
    "Distancia2= input('Introduzca la distancia del segundo planeta en km')\n",
    "Distancia1= int(Distancia1)\n",
    "Distancia2= int(Distancia2)\n",
    "Distkm= abs(Distancia1-Distancia2)\n",
    "Distmillas= Distkm *0.621\n",
    "Resultados= 'La distancia entre los planetas es de : \\n' +str(Distkm) + ' km \\n' +str(Distmillas) + ' millas'\n",
    "\n",
    "print(Resultados)"
   ]
  }
 ],
 "metadata": {
  "interpreter": {
   "hash": "260789e10f3f859915544e4ed0e8761864cd00db6bd874264fc0a767694174eb"
  },
  "kernelspec": {
   "display_name": "Python 3.10.2 64-bit (windows store)",
   "language": "python",
   "name": "python3"
  },
  "language_info": {
   "codemirror_mode": {
    "name": "ipython",
    "version": 3
   },
   "file_extension": ".py",
   "mimetype": "text/x-python",
   "name": "python",
   "nbconvert_exporter": "python",
   "pygments_lexer": "ipython3",
   "version": "3.10.2"
  },
  "orig_nbformat": 4
 },
 "nbformat": 4,
 "nbformat_minor": 2
}

{
 "cells": [
  {
   "cell_type": "markdown",
   "metadata": {},
   "source": [
    "## Ejercicio 1: Crear y usar listas de Python"
   ]
  },
  {
   "cell_type": "code",
   "execution_count": 7,
   "metadata": {},
   "outputs": [
    {
     "name": "stdout",
     "output_type": "stream",
     "text": [
      "Hay 9 planetas en la lista\n",
      "El último en la lista es: Plutón\n"
     ]
    }
   ],
   "source": [
    "planets= ['Mercurio','Venus','Tierra','Marte','Júpiter','Saturno','Urano','Neptuno']\n",
    "planets.append('Plutón')\n",
    "numberOfplanets = len(planets)\n",
    "print('Hay ' +str(numberOfplanets) +' planetas en la lista\\n' 'El último en la lista es: ' + str(planets[-1]))"
   ]
  },
  {
   "cell_type": "markdown",
   "metadata": {},
   "source": [
    "## Ejercicio 2: Trabajando con datos de una lista"
   ]
  },
  {
   "cell_type": "code",
   "execution_count": 9,
   "metadata": {},
   "outputs": [
    {
     "name": "stdout",
     "output_type": "stream",
     "text": [
      "Estos planetas son más cercanos al sol que Urano\n",
      "['Mercurio', 'Venus', 'Tierra', 'Marte', 'Júpiter', 'Saturno']\n",
      "Estos planetas están más lejanos al sol que Urano\n",
      "['Neptuno', 'Plutón']\n"
     ]
    }
   ],
   "source": [
    "planetas = ['Mercurio', 'Venus', 'Tierra', 'Marte', 'Júpiter', 'Saturno','Urano', 'Neptuno','Plutón']\n",
    "planeta= input('Introduzca el nombre de un planeta comenzando con mayúscula')\n",
    "planetaIndex= planetas.index(planeta)\n",
    "print('Estos planetas son más cercanos al sol que ' + planeta)\n",
    "print(planetas[0:planetaIndex])\n",
    "print('Estos planetas están más lejanos al sol que ' + planeta)\n",
    "print(planetas[planetaIndex+ 1:])"
   ]
  }
 ],
 "metadata": {
  "interpreter": {
   "hash": "260789e10f3f859915544e4ed0e8761864cd00db6bd874264fc0a767694174eb"
  },
  "kernelspec": {
   "display_name": "Python 3.10.2 64-bit (windows store)",
   "language": "python",
   "name": "python3"
  },
  "language_info": {
   "codemirror_mode": {
    "name": "ipython",
    "version": 3
   },
   "file_extension": ".py",
   "mimetype": "text/x-python",
   "name": "python",
   "nbconvert_exporter": "python",
   "pygments_lexer": "ipython3",
   "version": "3.10.2"
  },
  "orig_nbformat": 4
 },
 "nbformat": 4,
 "nbformat_minor": 2
}
